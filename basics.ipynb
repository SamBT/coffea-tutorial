{
 "cells": [
  {
   "cell_type": "code",
   "execution_count": 1,
   "id": "32291bed-caee-41df-8966-95561eaadfdc",
   "metadata": {},
   "outputs": [
    {
     "name": "stderr",
     "output_type": "stream",
     "text": [
      "/Users/sambt/anaconda3/envs/coffea/lib/python3.8/site-packages/scipy/__init__.py:146: UserWarning: A NumPy version >=1.16.5 and <1.23.0 is required for this version of SciPy (detected version 1.23.1\n",
      "  warnings.warn(f\"A NumPy version >={np_minversion} and <{np_maxversion}\"\n"
     ]
    }
   ],
   "source": [
    "import numpy as np\n",
    "import matplotlib.pyplot as plt\n",
    "import coffea.util as util\n",
    "import coffea.hist as hist\n",
    "from coffea.nanoevents import NanoEventsFactory, NanoAODSchema, BaseSchema\n",
    "from mySchema import MySchema\n",
    "import uproot\n",
    "import awkward as ak"
   ]
  },
  {
   "cell_type": "markdown",
   "id": "602ff424-34e7-409a-a79a-d01e7a357849",
   "metadata": {},
   "source": [
    "# Part 1 : Basic file I/O"
   ]
  },
  {
   "cell_type": "markdown",
   "id": "6ef8dc5b-8d29-4d50-834b-4f41089df78b",
   "metadata": {},
   "source": [
    "Here, we'll just load in a root file as a coffea object using the \"base schema\". It will just load all the branches in a \"normal\" way, and we'll have to access them by their full names"
   ]
  },
  {
   "cell_type": "code",
   "execution_count": 2,
   "id": "a9a2f784-91c7-4fba-ac76-731df9f2d0dd",
   "metadata": {},
   "outputs": [],
   "source": [
    "# Loading in the signal sample\n",
    "fname = \"samples/sig_m108-dm36-ct1.root\"\n",
    "events = NanoEventsFactory.from_root(\n",
    "    fname,\n",
    "    schemaclass=BaseSchema,\n",
    "    treepath='ntuples/outT'\n",
    ").events()"
   ]
  },
  {
   "cell_type": "markdown",
   "id": "598c3a77-253f-4dd8-8786-a81f35e5d75e",
   "metadata": {},
   "source": [
    "If we look at the branches, we see that they just correspond to the names of the TTree branches"
   ]
  },
  {
   "cell_type": "code",
   "execution_count": 3,
   "id": "394931e7-8ed4-47b5-8bb0-c5ed97098c5d",
   "metadata": {},
   "outputs": [
    {
     "name": "stdout",
     "output_type": "stream",
     "text": [
      "['trigFired', 'trigFired16', 'trigFired17', 'trigFired18', 'eventNum', 'lumiSec', 'runNum', 'METFiltersFailBits', 'nElectron', 'Electron_pt', 'Electron_eta', 'Electron_etaErr', 'Electron_phi', 'Electron_phiErr', 'Electron_angRes', 'Electron_energy', 'Electron_px', 'Electron_py', 'Electron_pz', 'Electron_vxy']\n"
     ]
    }
   ],
   "source": [
    "print(events.fields[:20])"
   ]
  },
  {
   "cell_type": "code",
   "execution_count": 4,
   "id": "37299579-fdd9-4326-b688-4230b53dc5e1",
   "metadata": {},
   "outputs": [
    {
     "data": {
      "text/plain": [
       "<Array [[21.2], [7.28, 45.2, ... [18.8, 7]] type='25678 * var * float32[paramete...'>"
      ]
     },
     "execution_count": 4,
     "metadata": {},
     "output_type": "execute_result"
    }
   ],
   "source": [
    "events.Electron_pt"
   ]
  },
  {
   "cell_type": "markdown",
   "id": "2e413046-d785-41ee-8fa5-9b4a7d935fc7",
   "metadata": {},
   "source": [
    "Accessing the branch names this way is a bit cumbersome, so we can use the [NanoAODSchema](https://coffeateam.github.io/coffea/api/coffea.nanoevents.NanoAODSchema.html#coffea.nanoevents.NanoAODSchema), which makes accessing objects/sub-objects simpler. For this to work properly, you have to name your branches using the NanoAOD naming convention (outlined in the link above). When I was creating the ntuples for this analysis, there was a small typo in one branch name that broke things, so we'll use my custom `MySchema` that I imported above. It's just a carbon copy of the `NanoAODSchema` to which I added a couple lines of code to read the typo'd branch name correctly. I fixed this bug in the ntuplizer, so future versions of the ntuples can just use the `NanoAODSchema`"
   ]
  },
  {
   "cell_type": "code",
   "execution_count": 5,
   "id": "d5e186e1-4016-442e-a7d1-c3cfaadc8172",
   "metadata": {},
   "outputs": [],
   "source": [
    "events = NanoEventsFactory.from_root(\n",
    "    fname,\n",
    "    schemaclass=MySchema,\n",
    "    treepath='ntuples/outT'\n",
    ").events()"
   ]
  },
  {
   "cell_type": "code",
   "execution_count": 6,
   "id": "553c8838-b1e2-412d-82c4-e8facaabeddb",
   "metadata": {},
   "outputs": [
    {
     "name": "stdout",
     "output_type": "stream",
     "text": [
      "['GenEleMatchC', 'trigFired17', 'PFMET', 'eventNum', 'Electron', 'lumiSec', 'GenPosMatches', 'trigFired18', 'PuppiMETPF', 'LRvtx', 'RRvtx', 'PFJet', 'nPFJetAll', 'EleCand', 'EECand', 'ootPhoton', 'genWgt', 'METFiltersFailBits', 'GenEleMatches', 'HEM']\n"
     ]
    }
   ],
   "source": [
    "print(events.fields[:20])"
   ]
  },
  {
   "cell_type": "markdown",
   "id": "bb46d817-c18a-4824-b0df-898c55e115aa",
   "metadata": {},
   "source": [
    "Now, our branches are categorized nicely into physics objects (electrons, jets, MET, etc.). We can access products very easily:"
   ]
  },
  {
   "cell_type": "code",
   "execution_count": 7,
   "id": "471cadc7-a1bd-4a82-b3b9-77eee09a3a75",
   "metadata": {},
   "outputs": [
    {
     "name": "stdout",
     "output_type": "stream",
     "text": [
      "['pt', 'eta', 'etaErr', 'phi', 'phiErr', 'angRes', 'energy', 'px', 'py', 'pz', 'vxy', 'vz', 'dxy', 'dxyErr', 'dz', 'dzErr', 'trkChi2', 'trkIso', 'trkRelIso', 'numTrackerHits', 'numPixHits', 'numStripHits', 'charge', 'trkProb']\n"
     ]
    }
   ],
   "source": [
    "eles = events.Electron\n",
    "print(eles.fields)"
   ]
  },
  {
   "cell_type": "markdown",
   "id": "b622ef04-3660-4716-bd9c-b9e71dc14423",
   "metadata": {},
   "source": [
    "# Part 2 : Basic columnar operations"
   ]
  },
  {
   "cell_type": "markdown",
   "id": "b787bb0e-1dbf-44a9-a614-8ba03b3f3058",
   "metadata": {},
   "source": [
    "The \"columnar\" part of columnar data analysis essentially means that we'll treat our TTree like a pandas dataframe. Each entry (branch) is a \"jagged array\" handled by the [Awkward Array](https://awkward-array.readthedocs.io/en/latest/) python package (developed by HEP folks!). You can manipulate these arrays much like you'd manipulate a numpy array, with some restrictions."
   ]
  },
  {
   "cell_type": "code",
   "execution_count": 8,
   "id": "d11a70b0-78c7-47b0-a2bf-04b89e00743a",
   "metadata": {},
   "outputs": [
    {
     "name": "stdout",
     "output_type": "stream",
     "text": [
      "[[21.2], [7.28, 45.2, 2.54, 3.55, 3.33], [21.8, ... [27.7], [38.1, 11.7], [5.46], []]\n",
      "[[True], [False, True, False, False, False], ... [True, False], [False], []]\n"
     ]
    }
   ],
   "source": [
    "ele_pt = events.Electron.pt\n",
    "print(ele_pt[:10])\n",
    "print(ele_pt[:10] > 15)"
   ]
  },
  {
   "cell_type": "markdown",
   "id": "bef83220-af7b-454a-90c1-24c199e6eac4",
   "metadata": {},
   "source": [
    "So, there's 1 electron with $p_T = 21.2$ GeV in event 1, 5 electrons in event 2, etc. The 10th event has no electrons, as shown by the empty array entry. If we want to cut on $p_T > 15$ GeV, we can do it using the boolean array `ele_pt > 15`."
   ]
  },
  {
   "cell_type": "code",
   "execution_count": 9,
   "id": "380c5589-c073-40e4-b071-c2e8e4023b10",
   "metadata": {},
   "outputs": [
    {
     "name": "stdout",
     "output_type": "stream",
     "text": [
      "[[21.2], [45.2], [21.8], [], [18.9, 22.1], [], [27.7], [38.1], [], []]\n"
     ]
    }
   ],
   "source": [
    "ele_cut = ele_pt[ele_pt > 15]\n",
    "print(ele_cut[:10])"
   ]
  },
  {
   "cell_type": "markdown",
   "id": "19dff732-64d9-424e-9381-e9a36dfc8a7b",
   "metadata": {},
   "source": [
    "We don't have to cut on *just* the $p_T$ entry, though! We can cut the `events.Electron` array using the $p_T > 15$ mask, then access the other electron properties ($\\eta$, $\\phi$, etc.) corresponding to electrons with $p_T > 15$ GeV"
   ]
  },
  {
   "cell_type": "code",
   "execution_count": 10,
   "id": "3f34a33e-09cb-4825-98ac-f054f26e982f",
   "metadata": {},
   "outputs": [
    {
     "name": "stdout",
     "output_type": "stream",
     "text": [
      "[[Electron], [Electron], [Electron], [], ... [], [Electron], [Electron], [], []]\n",
      "[[-2.17], [0.43], [1.57], [], [-1.57, -0.847], [], [1.41], [-1.78], [], []]\n"
     ]
    }
   ],
   "source": [
    "eles = events.Electron\n",
    "eles_cut = eles[eles.pt > 15]\n",
    "print(eles_cut[:10])\n",
    "print(eles_cut.eta[:10])"
   ]
  },
  {
   "cell_type": "markdown",
   "id": "9dc3313f-c0dc-46b3-861f-3ba184ba60c7",
   "metadata": {},
   "source": [
    "The \"electron\" entries just mean that each event has an array of \"electron\" objects, with corresponding sub-objects like $p_T$ etc. The coffea `NanoAODSchema` has lots of built-in TTree parsing rules for converting things like electrons, photons, jets into more sophisticated objects that you can do math with (e.g. summing the Lorentz four-vectors of two objects), but that stuff is optimized for people who are *actually working with NanoAOD*. We're working with custom ntuples whose branch names are NanoADO-like, so it's probably best not to try using the coffea builtins unless you've checked that they'll work properly!\n",
    "\n",
    "We can also apply event-level cuts to the `events` object. For example, we want to select events that have at least 1 electron with $p_T > 15$ GeV. "
   ]
  },
  {
   "cell_type": "code",
   "execution_count": 11,
   "id": "51b2287e-b30e-4a70-b7c9-a66924f90b16",
   "metadata": {},
   "outputs": [
    {
     "name": "stdout",
     "output_type": "stream",
     "text": [
      "[[True], [False, True, False, False, False], ... [True, False], [False], []]\n",
      "[True, True, True, False, True, False, True, True, False, False]\n"
     ]
    }
   ],
   "source": [
    "# printing electron level pT > 15 mask\n",
    "pt_mask = eles.pt > 15\n",
    "print(pt_mask[:10])\n",
    "\n",
    "# using ak.any(mask,axis=1) to tell if there's at least one electron with pT > 15 in each event\n",
    "# ak.any(...,axis=1) will check if there's at least one True entry in the event-level (inner) array of booleans\n",
    "event_mask = ak.any(pt_mask,axis=1)\n",
    "print(event_mask[:10])"
   ]
  },
  {
   "cell_type": "markdown",
   "id": "1732a2c7-8b34-4e01-b306-bca4b180863b",
   "metadata": {},
   "source": [
    "You can see that the 10th event -- which has no electrons -- gets you a `False` entry in the event-level mask. This is good, since we don't want to keep that! **In my experience, however, coffea/akward doesn't always handle empty event-level arrays in the way you want it to! If you're handling a branch where it's possible for an event-level array to be empty somewhere, make sure it's behaving sensibly!**\n",
    "\n",
    "Now, we can apply the cut and see how many events we keep:"
   ]
  },
  {
   "cell_type": "code",
   "execution_count": 12,
   "id": "32837eb6-1673-4ba7-b655-e24f1e56eafa",
   "metadata": {},
   "outputs": [
    {
     "name": "stdout",
     "output_type": "stream",
     "text": [
      "25678\n",
      "16842\n"
     ]
    }
   ],
   "source": [
    "# initial number of events\n",
    "print(len(events))\n",
    "\n",
    "# number of events with >=1 electron with pT > 15\n",
    "print(len(events[event_mask]))"
   ]
  },
  {
   "cell_type": "markdown",
   "id": "fe9c3480-4c6d-4096-b1cc-69675915264c",
   "metadata": {},
   "source": [
    "# Part 3 : Filling histograms"
   ]
  },
  {
   "cell_type": "markdown",
   "id": "b9f91717-1349-46ee-a26d-3d6afaf14bdf",
   "metadata": {},
   "source": [
    "Coffea histograms are nothing special, but have a few interesting quirks. In this example we'll build a histogram of the leading jet $p_T$ in each event using two different samples: a QCD background sample and a signal sample. We'll add two axes to our histogram: one `Bin` axis for the jet $p_T$, and one `Cat` axis to index the sample (signal/bkg) that each $p_T$ spectrum comes from"
   ]
  },
  {
   "cell_type": "code",
   "execution_count": 13,
   "id": "9d2fd3cb-48e2-4875-aa97-efe95b3b5c64",
   "metadata": {},
   "outputs": [],
   "source": [
    "# load in the signal/background files\n",
    "sig = NanoEventsFactory.from_root(\"samples/sig_m108-dm36-ct1.root\",schemaclass=MySchema,treepath='ntuples/outT').events()\n",
    "bkg = NanoEventsFactory.from_root(\"samples/bkg_QCDHT500to700.root\",schemaclass=MySchema,treepath='ntuples/outT').events()"
   ]
  },
  {
   "cell_type": "code",
   "execution_count": 14,
   "id": "0fb93083-e1d0-4d5f-94ac-dc327e414bd7",
   "metadata": {},
   "outputs": [],
   "source": [
    "# Build the histogram\n",
    "pt_hist = hist.Hist(\n",
    "    \"Events\",\n",
    "    hist.Bin(\"pt\",\"Leading Jet $p_T$ [GeV]\",100,0,1000),\n",
    "    hist.Cat(\"sample\",\"Sample Type\")\n",
    ")"
   ]
  },
  {
   "cell_type": "markdown",
   "id": "d6b17c6a-7740-40a8-a2b9-eb652a7e7789",
   "metadata": {},
   "source": [
    "To access the leading jet pT, we might naively just use `events.PFJet.pt[:,0]` -- but this will cause an error! If an event has no jets in it, the `PFJET.pt` entry for that event will be `[]`, and awkard array will give you an \"index out of bounds\" error. We first need to apply a cut to require events to have $\\geq 1$ jets. Once this cut is applied (or if you applied it in preselection), the indexing of element 0 will work just fine"
   ]
  },
  {
   "cell_type": "code",
   "execution_count": 15,
   "id": "cf7a8763-4c62-4a17-aa83-5a68ce988f26",
   "metadata": {},
   "outputs": [],
   "source": [
    "# require at least 1 jet\n",
    "sig = sig[ak.count(sig.PFJet.pt,axis=1) > 0]\n",
    "bkg = bkg[ak.count(bkg.PFJet.pt,axis=1) > 0]"
   ]
  },
  {
   "cell_type": "markdown",
   "id": "95cca393-689d-4d5d-8c20-3d59406af10c",
   "metadata": {},
   "source": [
    "Filling the histogram is easy, but you need to make sure the arrays you pass it are *flat* (i.e. no nested arrays). Since we're grabbing the first jet in each event with `[:,0]`, this will give us a flat (non-nested) array. If -- for some odd reason -- you wanted to put the $p_T$s of *all* the jets into the histogram, you have to use `ak.flatten(events.PFJet.pt)` to fill the histogram."
   ]
  },
  {
   "cell_type": "code",
   "execution_count": 16,
   "id": "58403cd7-00b8-4f70-b9a9-0b22fc8fc463",
   "metadata": {},
   "outputs": [],
   "source": [
    "pt_hist.fill(\n",
    "    pt=sig.PFJet.pt[:,0],\n",
    "    sample=\"Signal\"\n",
    ")\n",
    "\n",
    "pt_hist.fill(\n",
    "    pt = bkg.PFJet.pt[:,0],\n",
    "    sample=\"Background\"\n",
    ")"
   ]
  },
  {
   "cell_type": "markdown",
   "id": "8c6f375f-4d3b-410f-8269-2b71d9a2cc20",
   "metadata": {},
   "source": [
    "Now, we can have a look at our $p_T$ spectra. We'll plot normalized spectra (different numEvents in each sample), and use `coffea.hist.plot1d`'s \"overlay\" feature to overlay the `sample` axis in the 1D plot (i.e. plot signal & bkg with each other)"
   ]
  },
  {
   "cell_type": "code",
   "execution_count": 17,
   "id": "92f8ce1f-4106-429a-bbf6-eb3d7adefe1b",
   "metadata": {},
   "outputs": [
    {
     "data": {
      "text/plain": [
       "<AxesSubplot:xlabel='Leading Jet $p_T$ [GeV]', ylabel='Events'>"
      ]
     },
     "execution_count": 17,
     "metadata": {},
     "output_type": "execute_result"
    },
    {
     "data": {
      "image/png": "[encoded data removed]",
      "text/plain": [
       "<Figure size 720x576 with 1 Axes>"
      ]
     },
     "metadata": {
      "needs_background": "light"
     },
     "output_type": "display_data"
    }
   ],
   "source": [
    "plt.figure(figsize=(10,8))\n",
    "hist.plot1d(pt_hist,overlay=\"sample\")"
   ]
  },
  {
   "cell_type": "markdown",
   "id": "503141bb-d68a-4100-9eb4-0af132fcc83c",
   "metadata": {},
   "source": [
    "These QCD events are in the $H_T \\in [500,700]$ GeV bin, which is why the $p_T$ spectrum looks odd!"
   ]
  },
  {
   "cell_type": "code",
   "execution_count": null,
   "id": "97abac7a-fa58-4e33-b983-ded098eac17d",
   "metadata": {},
   "outputs": [],
   "source": []
  }
 ],
 "metadata": {
  "kernelspec": {
   "display_name": "Python 3 (ipykernel)",
   "language": "python",
   "name": "python3"
  },
  "language_info": {
   "codemirror_mode": {
    "name": "ipython",
    "version": 3
   },
   "file_extension": ".py",
   "mimetype": "text/x-python",
   "name": "python",
   "nbconvert_exporter": "python",
   "pygments_lexer": "ipython3",
   "version": "3.8.13"
  }
 },
 "nbformat": 4,
 "nbformat_minor": 5
}
